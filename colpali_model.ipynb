{
 "cells": [
  {
   "cell_type": "markdown",
   "metadata": {},
   "source": [
    "# Deploy Colpali with LitServe\n",
    "This notebook demonstrates how to deploy ColPali with LitServe"
   ]
  },
  {
   "cell_type": "code",
   "execution_count": null,
   "metadata": {},
   "outputs": [],
   "source": [
    "# Import necessary libraries\n",
    "import os\n",
    "import torch\n",
    "from PIL import Image\n",
    "from colpali_engine.models import ColPali, ColPaliProcessor\n",
    "import tqdm\n",
    "\n",
    "#Enable hf_transfer for faster download\n",
    "os.environ[\"HF_HUB_ENABLE_HF_TRANSFER\"] = \"1\" # optional setting for faster dataset downloads\n",
    "\n",
    "#Load the Model\n",
    "model = ColPali.from_pretrained(\n",
    "        \"vidore/colpali-v1.3\",\n",
    "        torch_dtype=torch.bfloat16,\n",
    "        device_map=\"mps\",  # Use \"cuda:0\" for GPU, \"cpu\" for CPU, or \"mps\" for Apple Silicon\n",
    "    ).eval()\n",
    "\n",
    "processor = ColPaliProcessor.from_pretrained(\"vidore/colpali-v1.3\")"
   ]
  },
  {
   "cell_type": "code",
   "execution_count": 2,
   "metadata": {},
   "outputs": [],
   "source": [
    "# Your inputs\n",
    "images = [\n",
    "    Image.new(\"RGB\", (32, 32), color=\"white\"),\n",
    "    Image.new(\"RGB\", (16, 16), color=\"black\"),\n",
    "]\n",
    "queries = [\n",
    "    \"Is attention really all you need?\",\n",
    "    \"Are Benjamin, Antoine, Merve, and Jo best friends?\",\n",
    "]\n",
    "\n",
    "# Process the inputs\n",
    "batch_images = processor.process_images(images).to(model.device)\n",
    "batch_queries = processor.process_queries(queries).to(model.device)\n",
    "\n",
    "# Forward pass\n",
    "with torch.no_grad():\n",
    "    image_embeddings = model(**batch_images)\n",
    "    query_embeddings = model(**batch_queries)\n",
    "\n",
    "scores = processor.score_multi_vector(query_embeddings, image_embeddings)"
   ]
  },
  {
   "cell_type": "code",
   "execution_count": null,
   "metadata": {},
   "outputs": [],
   "source": [
    "print(image_embeddings.shape)\n",
    "print(query_embeddings.shape)"
   ]
  },
  {
   "cell_type": "code",
   "execution_count": null,
   "metadata": {},
   "outputs": [],
   "source": [
    "print(scores)\n",
    "print(scores.mean(axis=1))"
   ]
  }
 ],
 "metadata": {
  "kernelspec": {
   "display_name": ".multimodal_rag",
   "language": "python",
   "name": "python3"
  },
  "language_info": {
   "codemirror_mode": {
    "name": "ipython",
    "version": 3
   },
   "file_extension": ".py",
   "mimetype": "text/x-python",
   "name": "python",
   "nbconvert_exporter": "python",
   "pygments_lexer": "ipython3",
   "version": "3.11.0"
  }
 },
 "nbformat": 4,
 "nbformat_minor": 4
}
