{
 "cells": [
  {
   "cell_type": "code",
   "execution_count": 69,
   "metadata": {},
   "outputs": [],
   "source": [
    "import requests\n",
    "import json\n",
    "import base64\n",
    "from PIL import Image\n",
    "import numpy as np\n",
    "from io import BytesIO"
   ]
  },
  {
   "cell_type": "markdown",
   "metadata": {},
   "source": [
    "# Text Embedding"
   ]
  },
  {
   "cell_type": "code",
   "execution_count": 70,
   "metadata": {},
   "outputs": [
    {
     "name": "stdout",
     "output_type": "stream",
     "text": [
      "(3, 21, 128)\n"
     ]
    }
   ],
   "source": [
    "# Define the server URL\n",
    "url = \"http://localhost:8000/predict\"\n",
    "\n",
    "# Define the text inputs\n",
    "text_data = {\n",
    "    \"texts\": [\n",
    "        \"Is attention really all you need?\",\n",
    "        \"What is the capital of France?\",\n",
    "        \"How does a neural network work?\"\n",
    "    ]\n",
    "}\n",
    "\n",
    "# Send a POST request to the server\n",
    "response = requests.post(url, json=text_data)\n",
    "query_embeddings = np.asarray(response.json()['embeddings'])\n",
    "\n",
    "print(query_embeddings.shape)"
   ]
  },
  {
   "cell_type": "markdown",
   "metadata": {},
   "source": [
    "# Image Embedding"
   ]
  },
  {
   "cell_type": "code",
   "execution_count": 71,
   "metadata": {},
   "outputs": [
    {
     "name": "stdout",
     "output_type": "stream",
     "text": [
      "(2, 1030, 128)\n"
     ]
    }
   ],
   "source": [
    "# Define the server URL\n",
    "url = \"http://localhost:8000/predict\"\n",
    "\n",
    "# Helper function to convert image to base64\n",
    "def image_to_base64(image_path):\n",
    "    with open(image_path, \"rb\") as image_file:\n",
    "        return base64.b64encode(image_file.read()).decode(\"utf-8\")\n",
    "\n",
    "# Define the image inputs\n",
    "image_paths = [\"imgs/test1.png\", \"imgs/test2.png\"]  # Replace with your image paths\n",
    "image_data = {\n",
    "    \"images\": [image_to_base64(img_path) for img_path in image_paths]\n",
    "}\n",
    "\n",
    "# Send a POST request to the server with image data\n",
    "response = requests.post(url, json=image_data)\n",
    "image_embeddings = np.asarray(response.json()['embeddings'])\n",
    "\n",
    "print(image_embeddings.shape)"
   ]
  }
 ],
 "metadata": {
  "kernelspec": {
   "display_name": ".multimodal_rag",
   "language": "python",
   "name": "python3"
  },
  "language_info": {
   "codemirror_mode": {
    "name": "ipython",
    "version": 3
   },
   "file_extension": ".py",
   "mimetype": "text/x-python",
   "name": "python",
   "nbconvert_exporter": "python",
   "pygments_lexer": "ipython3",
   "version": "3.11.0"
  }
 },
 "nbformat": 4,
 "nbformat_minor": 2
}
